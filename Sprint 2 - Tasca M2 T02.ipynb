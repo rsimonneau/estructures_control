{
 "cells": [
  {
   "cell_type": "markdown",
   "id": "63b6ecca",
   "metadata": {},
   "source": [
    "Exercici 1"
   ]
  },
  {
   "cell_type": "code",
   "execution_count": 39,
   "id": "623845fa",
   "metadata": {},
   "outputs": [
    {
     "name": "stdout",
     "output_type": "stream",
     "text": [
      "Nota: 7.8\n",
      "Notable\n"
     ]
    }
   ],
   "source": [
    "# Programa evaluació notes (Suspès < 5, Aprovat > 5 i < 7, Notable > 7 i < 9 i Excel·lent > 9)\n",
    "\n",
    "nota = float(input('Nota: '))\n",
    "\n",
    "def notes(nota):\n",
    "    if nota < 5:\n",
    "        print(\"Suspès\")\n",
    "    elif 5 <= nota and nota < 7:\n",
    "        print(\"Aprovat\")\n",
    "    elif 7 <= nota and nota < 9:\n",
    "        print(\"Notable\")\n",
    "    else:\n",
    "        print(\"Excel·lent\")\n",
    "notes(nota)"
   ]
  },
  {
   "cell_type": "markdown",
   "id": "052f83b2",
   "metadata": {},
   "source": [
    "Excercici 2"
   ]
  },
  {
   "cell_type": "code",
   "execution_count": 2,
   "id": "d536d51a",
   "metadata": {},
   "outputs": [
    {
     "name": "stdout",
     "output_type": "stream",
     "text": [
      "Introdueix primer número: 4\n",
      "Introdueix segón número: -2\n",
      "el primer número introduït és més gran!\n"
     ]
    }
   ],
   "source": [
    "# programa que et pregunti dos números. T’ha de mostrar un missatge dient si el primer és més gran, el segon és més gran o són iguals.\n",
    "\n",
    "x = float(input('Introdueix primer número: '))\n",
    "y = float(input('Introdueix segón número: '))\n",
    "\n",
    "def números(x,y):\n",
    "    if x > y:\n",
    "        print(\"el primer número introduït és més gran!\")\n",
    "    elif x < y:\n",
    "        print(\"el segón número introduït és més gran!\")\n",
    "    else:\n",
    "        print(\"són iguals\")\n",
    "números(x,y)\n",
    "\n",
    "\n"
   ]
  },
  {
   "cell_type": "markdown",
   "id": "32e70b1b",
   "metadata": {},
   "source": [
    "Exercici 3"
   ]
  },
  {
   "cell_type": "code",
   "execution_count": 3,
   "id": "a917c8d6",
   "metadata": {},
   "outputs": [
    {
     "name": "stdout",
     "output_type": "stream",
     "text": [
      "Introdueix un número: 4\n",
      "Introdueix el teu nom: Ricard\n",
      "RicardRicardRicardRicard\n"
     ]
    }
   ],
   "source": [
    "# programa que et pregunti el teu nom, i et demani un número. Si el número és 0, hauria de mostrar un missatge d’error. En cas contrari, hauria de mostrar el nom repetit tants cops com indiqui el número. \n",
    "\n",
    "Numero = int(input('Introdueix un número: '))\n",
    "Nom = input('Introdueix el teu nom: ')\n",
    "\n",
    "def programa (Numero, Nom):\n",
    "    if Numero == 0:\n",
    "        print(\"Error\")\n",
    "    elif Numero > 0:\n",
    "        print(Numero * Nom)\n",
    "programa (Numero, Nom)\n",
    "        \n",
    "    "
   ]
  },
  {
   "cell_type": "markdown",
   "id": "dbaec39f",
   "metadata": {},
   "source": [
    "Exercici 4"
   ]
  },
  {
   "cell_type": "code",
   "execution_count": 6,
   "id": "0aa63bed",
   "metadata": {},
   "outputs": [
    {
     "name": "stdout",
     "output_type": "stream",
     "text": [
      "Introdueix rang de la llista: 3\n",
      "[1, 0, 1]\n",
      "La llista és simètrica i el nº d'elements és: 3\n"
     ]
    }
   ],
   "source": [
    "# Programa que donada una llista qualsevol, et digui si és simètrica o no. Si ho és, que et digui quants elements té\n",
    "\n",
    "import random\n",
    "\n",
    "n=int(input('Introdueix rang de la llista: '))\n",
    "llista = [random.randint(0,1) for _ in range(n)]\n",
    "print(llista)\n",
    "\n",
    "def simètrica(llista):\n",
    "    if llista [0] != llista [-1]:\n",
    "        print (\"La llista NO és simètrica\")\n",
    "    elif llista [0:] == llista [0:]:\n",
    "        print (\"La llista és simètrica i el nº d'elements és:\", (len(llista)))\n",
    "simètrica(llista)\n"
   ]
  },
  {
   "cell_type": "markdown",
   "id": "3bb77aa0",
   "metadata": {},
   "source": [
    "Exercici 5"
   ]
  },
  {
   "cell_type": "code",
   "execution_count": 38,
   "id": "ae97a7be",
   "metadata": {},
   "outputs": [
    {
     "name": "stdout",
     "output_type": "stream",
     "text": [
      "Introdueix rang de la llista: 5\n",
      "[5, 4, 9, 8, 9]\n",
      "1\n",
      "no coincidencia\n"
     ]
    }
   ],
   "source": [
    "# Programa que donada una llista, et digui quants números coincideixen amb la seva posició.\n",
    "\n",
    "import random\n",
    "\n",
    "n=int(input('Introdueix rang de la llista: '))\n",
    "llista = [random.randint(0,10) for _ in range(n)]\n",
    "print(llista)\n",
    "\n",
    "número = 4\n",
    "posició = llista.index(número)\n",
    "\n",
    "print(posició)\n",
    "\n",
    "def coincidents(número, posició):\n",
    "    if número == posició:\n",
    "        print(\"coincidencia\")\n",
    "    elif número != posició:\n",
    "        print(\"no coincidencia\")\n",
    "\n",
    "coincidents(número, posició)\n",
    "\n",
    "\n",
    "\n"
   ]
  }
 ],
 "metadata": {
  "kernelspec": {
   "display_name": "Python 3 (ipykernel)",
   "language": "python",
   "name": "python3"
  },
  "language_info": {
   "codemirror_mode": {
    "name": "ipython",
    "version": 3
   },
   "file_extension": ".py",
   "mimetype": "text/x-python",
   "name": "python",
   "nbconvert_exporter": "python",
   "pygments_lexer": "ipython3",
   "version": "3.9.12"
  },
  "toc": {
   "base_numbering": 1,
   "nav_menu": {},
   "number_sections": true,
   "sideBar": true,
   "skip_h1_title": false,
   "title_cell": "Table of Contents",
   "title_sidebar": "Contents",
   "toc_cell": false,
   "toc_position": {},
   "toc_section_display": true,
   "toc_window_display": false
  }
 },
 "nbformat": 4,
 "nbformat_minor": 5
}
